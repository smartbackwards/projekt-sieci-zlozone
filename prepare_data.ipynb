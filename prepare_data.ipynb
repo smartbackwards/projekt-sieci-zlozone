{
 "cells": [
  {
   "cell_type": "markdown",
   "id": "f97bd710",
   "metadata": {},
   "source": [
    "# Prepare data"
   ]
  },
  {
   "cell_type": "code",
   "execution_count": 1,
   "id": "64441dfc",
   "metadata": {},
   "outputs": [],
   "source": [
    "import pandas as pd"
   ]
  },
  {
   "cell_type": "code",
   "execution_count": 2,
   "id": "479d4cff",
   "metadata": {},
   "outputs": [],
   "source": [
    "df = pd.read_csv('data/original_data.csv', delimiter='?', header=None)\n",
    "df.columns = ['sign', 'reading', 'rank']"
   ]
  },
  {
   "cell_type": "code",
   "execution_count": 3,
   "id": "db2795a4",
   "metadata": {},
   "outputs": [
    {
     "data": {
      "text/plain": [
       "(56008, 3)"
      ]
     },
     "execution_count": 3,
     "metadata": {},
     "output_type": "execute_result"
    }
   ],
   "source": [
    "df.shape"
   ]
  },
  {
   "cell_type": "code",
   "execution_count": 4,
   "id": "82e696e6",
   "metadata": {},
   "outputs": [],
   "source": [
    "df = df[df['rank'] <= 10000]"
   ]
  },
  {
   "cell_type": "code",
   "execution_count": 5,
   "id": "643a7811",
   "metadata": {},
   "outputs": [
    {
     "data": {
      "text/plain": [
       "(10000, 3)"
      ]
     },
     "execution_count": 5,
     "metadata": {},
     "output_type": "execute_result"
    }
   ],
   "source": [
    "df.shape"
   ]
  },
  {
   "cell_type": "markdown",
   "id": "cbe1db10",
   "metadata": {},
   "source": [
    "## Split row with two writings"
   ]
  },
  {
   "cell_type": "code",
   "execution_count": 6,
   "id": "79ad884c",
   "metadata": {},
   "outputs": [],
   "source": [
    "df[['sign', 'sign_2']] = df['sign'].str.partition(';',)[[0, 2]]"
   ]
  },
  {
   "cell_type": "code",
   "execution_count": 7,
   "id": "6da260fe",
   "metadata": {},
   "outputs": [
    {
     "data": {
      "text/html": [
       "<div>\n",
       "<style scoped>\n",
       "    .dataframe tbody tr th:only-of-type {\n",
       "        vertical-align: middle;\n",
       "    }\n",
       "\n",
       "    .dataframe tbody tr th {\n",
       "        vertical-align: top;\n",
       "    }\n",
       "\n",
       "    .dataframe thead th {\n",
       "        text-align: right;\n",
       "    }\n",
       "</style>\n",
       "<table border=\"1\" class=\"dataframe\">\n",
       "  <thead>\n",
       "    <tr style=\"text-align: right;\">\n",
       "      <th></th>\n",
       "      <th>sign</th>\n",
       "      <th>reading</th>\n",
       "      <th>rank</th>\n",
       "      <th>sign_2</th>\n",
       "    </tr>\n",
       "  </thead>\n",
       "  <tbody>\n",
       "    <tr>\n",
       "      <th>696</th>\n",
       "      <td>年轻</td>\n",
       "      <td>nian2'qing1</td>\n",
       "      <td>697</td>\n",
       "      <td>年青</td>\n",
       "    </tr>\n",
       "    <tr>\n",
       "      <th>3252</th>\n",
       "      <td>当作</td>\n",
       "      <td>dang1'zuo4</td>\n",
       "      <td>3253</td>\n",
       "      <td>当做</td>\n",
       "    </tr>\n",
       "    <tr>\n",
       "      <th>5053</th>\n",
       "      <td>看作</td>\n",
       "      <td>kan4'zuo4</td>\n",
       "      <td>5054</td>\n",
       "      <td>看做</td>\n",
       "    </tr>\n",
       "  </tbody>\n",
       "</table>\n",
       "</div>"
      ],
      "text/plain": [
       "     sign      reading  rank sign_2\n",
       "696    年轻  nian2'qing1   697     年青\n",
       "3252   当作   dang1'zuo4  3253     当做\n",
       "5053   看作    kan4'zuo4  5054     看做"
      ]
     },
     "execution_count": 7,
     "metadata": {},
     "output_type": "execute_result"
    }
   ],
   "source": [
    "df[df['sign_2'] != ''].head(3)"
   ]
  },
  {
   "cell_type": "code",
   "execution_count": 8,
   "id": "cc0c7bb9",
   "metadata": {},
   "outputs": [
    {
     "data": {
      "text/html": [
       "<div>\n",
       "<style scoped>\n",
       "    .dataframe tbody tr th:only-of-type {\n",
       "        vertical-align: middle;\n",
       "    }\n",
       "\n",
       "    .dataframe tbody tr th {\n",
       "        vertical-align: top;\n",
       "    }\n",
       "\n",
       "    .dataframe thead th {\n",
       "        text-align: right;\n",
       "    }\n",
       "</style>\n",
       "<table border=\"1\" class=\"dataframe\">\n",
       "  <thead>\n",
       "    <tr style=\"text-align: right;\">\n",
       "      <th></th>\n",
       "      <th>sign</th>\n",
       "      <th>reading</th>\n",
       "      <th>rank</th>\n",
       "    </tr>\n",
       "  </thead>\n",
       "  <tbody>\n",
       "    <tr>\n",
       "      <th>0</th>\n",
       "      <td>的</td>\n",
       "      <td>de</td>\n",
       "      <td>1</td>\n",
       "    </tr>\n",
       "    <tr>\n",
       "      <th>1</th>\n",
       "      <td>是</td>\n",
       "      <td>shi4</td>\n",
       "      <td>2</td>\n",
       "    </tr>\n",
       "    <tr>\n",
       "      <th>2</th>\n",
       "      <td>在</td>\n",
       "      <td>zai4</td>\n",
       "      <td>3</td>\n",
       "    </tr>\n",
       "  </tbody>\n",
       "</table>\n",
       "</div>"
      ],
      "text/plain": [
       "  sign reading  rank\n",
       "0    的      de     1\n",
       "1    是    shi4     2\n",
       "2    在    zai4     3"
      ]
     },
     "execution_count": 8,
     "metadata": {},
     "output_type": "execute_result"
    }
   ],
   "source": [
    "df[['sign', 'reading', 'rank']].head(3)"
   ]
  },
  {
   "cell_type": "code",
   "execution_count": 9,
   "id": "efad9e8b",
   "metadata": {},
   "outputs": [
    {
     "data": {
      "text/plain": [
       "(9, 4)"
      ]
     },
     "execution_count": 9,
     "metadata": {},
     "output_type": "execute_result"
    }
   ],
   "source": [
    "df2 = df[(df['sign_2'] != '')][['sign_2', 'reading', 'rank']]\n",
    "df2['sign'] = df2['sign_2']\n",
    "df2.shape"
   ]
  },
  {
   "cell_type": "code",
   "execution_count": 10,
   "id": "f9252784",
   "metadata": {},
   "outputs": [],
   "source": [
    "df = pd.concat([df[['sign', 'reading', 'rank']], df2[['sign', 'reading', 'rank']]], ignore_index=True)"
   ]
  },
  {
   "cell_type": "code",
   "execution_count": 11,
   "id": "6800e8ed",
   "metadata": {},
   "outputs": [],
   "source": [
    "df['rank'] = 1. / df['rank']"
   ]
  },
  {
   "cell_type": "code",
   "execution_count": 12,
   "id": "f73a4c5b",
   "metadata": {},
   "outputs": [
    {
     "data": {
      "text/html": [
       "<div>\n",
       "<style scoped>\n",
       "    .dataframe tbody tr th:only-of-type {\n",
       "        vertical-align: middle;\n",
       "    }\n",
       "\n",
       "    .dataframe tbody tr th {\n",
       "        vertical-align: top;\n",
       "    }\n",
       "\n",
       "    .dataframe thead th {\n",
       "        text-align: right;\n",
       "    }\n",
       "</style>\n",
       "<table border=\"1\" class=\"dataframe\">\n",
       "  <thead>\n",
       "    <tr style=\"text-align: right;\">\n",
       "      <th></th>\n",
       "      <th>sign</th>\n",
       "      <th>reading</th>\n",
       "      <th>rank</th>\n",
       "    </tr>\n",
       "  </thead>\n",
       "  <tbody>\n",
       "    <tr>\n",
       "      <th>0</th>\n",
       "      <td>的</td>\n",
       "      <td>de</td>\n",
       "      <td>1.000000</td>\n",
       "    </tr>\n",
       "    <tr>\n",
       "      <th>1</th>\n",
       "      <td>是</td>\n",
       "      <td>shi4</td>\n",
       "      <td>0.500000</td>\n",
       "    </tr>\n",
       "    <tr>\n",
       "      <th>2</th>\n",
       "      <td>在</td>\n",
       "      <td>zai4</td>\n",
       "      <td>0.333333</td>\n",
       "    </tr>\n",
       "    <tr>\n",
       "      <th>3</th>\n",
       "      <td>一</td>\n",
       "      <td>yi1</td>\n",
       "      <td>0.250000</td>\n",
       "    </tr>\n",
       "    <tr>\n",
       "      <th>4</th>\n",
       "      <td>不</td>\n",
       "      <td>bu4</td>\n",
       "      <td>0.200000</td>\n",
       "    </tr>\n",
       "  </tbody>\n",
       "</table>\n",
       "</div>"
      ],
      "text/plain": [
       "  sign reading      rank\n",
       "0    的      de  1.000000\n",
       "1    是    shi4  0.500000\n",
       "2    在    zai4  0.333333\n",
       "3    一     yi1  0.250000\n",
       "4    不     bu4  0.200000"
      ]
     },
     "execution_count": 12,
     "metadata": {},
     "output_type": "execute_result"
    }
   ],
   "source": [
    "df.head()"
   ]
  },
  {
   "cell_type": "code",
   "execution_count": 13,
   "id": "4af5b9d0",
   "metadata": {},
   "outputs": [
    {
     "data": {
      "text/plain": [
       "(10009, 3)"
      ]
     },
     "execution_count": 13,
     "metadata": {},
     "output_type": "execute_result"
    }
   ],
   "source": [
    "df.shape"
   ]
  },
  {
   "cell_type": "code",
   "execution_count": 14,
   "id": "318af92a",
   "metadata": {},
   "outputs": [],
   "source": [
    "weights = pd.Series(df['rank'].values, index=df['sign']).to_dict()"
   ]
  },
  {
   "cell_type": "code",
   "execution_count": 15,
   "id": "492dac51",
   "metadata": {},
   "outputs": [],
   "source": [
    "edges_dict = dict()\n",
    "for word in weights.keys():\n",
    "    for sign in word:\n",
    "        if sign not in edges_dict:\n",
    "            edges_dict[sign] = list()\n",
    "        edges_dict[sign].append(word)"
   ]
  },
  {
   "cell_type": "code",
   "execution_count": 16,
   "id": "957e0484",
   "metadata": {},
   "outputs": [],
   "source": [
    "import itertools\n",
    "\n",
    "edges = list()\n",
    "for sign, word_list in edges_dict.items():\n",
    "    for source, target in itertools.combinations_with_replacement(word_list, 2):\n",
    "        edges.append((source, target, (weights[source] + weights[target]) / 2))"
   ]
  },
  {
   "cell_type": "code",
   "execution_count": 17,
   "id": "4471c18a",
   "metadata": {},
   "outputs": [
    {
     "data": {
      "text/plain": [
       "[('的', '的', 1.0),\n",
       " ('的', '有的', 0.5016556291390728),\n",
       " ('的', '目的', 0.500814332247557)]"
      ]
     },
     "execution_count": 17,
     "metadata": {},
     "output_type": "execute_result"
    }
   ],
   "source": [
    "edges[0:3]"
   ]
  },
  {
   "cell_type": "code",
   "execution_count": 18,
   "id": "928a3672",
   "metadata": {},
   "outputs": [],
   "source": [
    "edges_df = pd.DataFrame(edges)\n",
    "edges_df.columns = ['Source', 'Target', 'WEIGHT']"
   ]
  },
  {
   "cell_type": "code",
   "execution_count": 19,
   "id": "a674ddac",
   "metadata": {},
   "outputs": [],
   "source": [
    "edges_df_gb = edges_df.groupby(['Source', 'Target'], as_index=False).sum()"
   ]
  },
  {
   "cell_type": "code",
   "execution_count": 20,
   "id": "c348d557",
   "metadata": {},
   "outputs": [
    {
     "data": {
      "text/html": [
       "<div>\n",
       "<style scoped>\n",
       "    .dataframe tbody tr th:only-of-type {\n",
       "        vertical-align: middle;\n",
       "    }\n",
       "\n",
       "    .dataframe tbody tr th {\n",
       "        vertical-align: top;\n",
       "    }\n",
       "\n",
       "    .dataframe thead th {\n",
       "        text-align: right;\n",
       "    }\n",
       "</style>\n",
       "<table border=\"1\" class=\"dataframe\">\n",
       "  <thead>\n",
       "    <tr style=\"text-align: right;\">\n",
       "      <th></th>\n",
       "      <th>Source</th>\n",
       "      <th>Target</th>\n",
       "      <th>WEIGHT</th>\n",
       "    </tr>\n",
       "  </thead>\n",
       "  <tbody>\n",
       "    <tr>\n",
       "      <th>0</th>\n",
       "      <td>一</td>\n",
       "      <td>一</td>\n",
       "      <td>0.250000</td>\n",
       "    </tr>\n",
       "    <tr>\n",
       "      <th>1</th>\n",
       "      <td>一</td>\n",
       "      <td>一一</td>\n",
       "      <td>0.250264</td>\n",
       "    </tr>\n",
       "    <tr>\n",
       "      <th>2</th>\n",
       "      <td>一</td>\n",
       "      <td>一下</td>\n",
       "      <td>0.125870</td>\n",
       "    </tr>\n",
       "    <tr>\n",
       "      <th>3</th>\n",
       "      <td>一</td>\n",
       "      <td>一世</td>\n",
       "      <td>0.125085</td>\n",
       "    </tr>\n",
       "    <tr>\n",
       "      <th>4</th>\n",
       "      <td>一</td>\n",
       "      <td>一举</td>\n",
       "      <td>0.125086</td>\n",
       "    </tr>\n",
       "  </tbody>\n",
       "</table>\n",
       "</div>"
      ],
      "text/plain": [
       "  Source Target    WEIGHT\n",
       "0      一      一  0.250000\n",
       "1      一     一一  0.250264\n",
       "2      一     一下  0.125870\n",
       "3      一     一世  0.125085\n",
       "4      一     一举  0.125086"
      ]
     },
     "execution_count": 20,
     "metadata": {},
     "output_type": "execute_result"
    }
   ],
   "source": [
    "edges_df_gb.head()"
   ]
  },
  {
   "cell_type": "code",
   "execution_count": 21,
   "id": "43080618",
   "metadata": {},
   "outputs": [],
   "source": [
    "edges_df_gb.to_csv(\"data/edge_list.csv\", sep=';',index=False)"
   ]
  }
 ],
 "metadata": {
  "kernelspec": {
   "display_name": "ML_2025_03_07",
   "language": "python",
   "name": "python3"
  },
  "language_info": {
   "codemirror_mode": {
    "name": "ipython",
    "version": 3
   },
   "file_extension": ".py",
   "mimetype": "text/x-python",
   "name": "python",
   "nbconvert_exporter": "python",
   "pygments_lexer": "ipython3",
   "version": "3.10.16"
  }
 },
 "nbformat": 4,
 "nbformat_minor": 5
}
